{
 "cells": [
  {
   "cell_type": "code",
   "execution_count": 1,
   "metadata": {},
   "outputs": [
    {
     "name": "stdout",
     "output_type": "stream",
     "text": [
      "hello world\n"
     ]
    }
   ],
   "source": [
    "print(\"hello world\")"
   ]
  },
  {
   "cell_type": "code",
   "execution_count": 2,
   "metadata": {},
   "outputs": [],
   "source": [
    "from bs4 import BeautifulSoup\n",
    "\n",
    "url = \"https://www.snopes.com/fact-check/robert-de-niro-trump-oscars/\""
   ]
  },
  {
   "cell_type": "code",
   "execution_count": 3,
   "metadata": {},
   "outputs": [],
   "source": [
    "from selenium import webdriver\n",
    "from selenium.webdriver.support.ui import WebDriverWait\n",
    "from selenium.webdriver.common.by import By\n",
    "from selenium.webdriver.support import expected_conditions as EC\n",
    "from selenium.common.exceptions import TimeoutException\n",
    "from selenium.webdriver.common.action_chains import ActionChains\n",
    "from selenium.webdriver.remote.webelement import WebElement\n",
    "from selenium.webdriver.support.wait import WebDriverWait\n",
    "# from selenium_move_cursor.MouseActions import move_to_element_chrome\n",
    "from selenium.webdriver.common.keys import Keys\n",
    "from selenium.webdriver.chrome.options import Options\n",
    "import numpy as np\n",
    "import pandas as pd\n",
    "from bs4 import BeautifulSoup\n",
    "from selenium.webdriver.chrome.service import Service\n",
    "import time\n",
    "\n",
    "opts = webdriver.ChromeOptions()\n",
    "opts.add_experimental_option('detach', True)\n",
    "opts.add_argument(\"-—headless\")\n",
    "driver = webdriver.Chrome(options=opts)\n",
    "\n",
    "driver.implicitly_wait(200) # not sequential, global, will wait before returning error, gives time for the js parts to load\n",
    "\n",
    "driver.get(f\"{url}\")          #open the URL\n",
    "with open(f\"cur_page.html\", \"w\", encoding=\"utf-8\") as file: \n",
    "        file.write(driver.page_source)"
   ]
  },
  {
   "cell_type": "code",
   "execution_count": 4,
   "metadata": {},
   "outputs": [],
   "source": [
    "with open(\"cur_page.html\", \"r\", encoding=\"utf-8\") as html_data:\n",
    "    soup = BeautifulSoup(html_data, 'html.parser')"
   ]
  },
  {
   "cell_type": "code",
   "execution_count": null,
   "metadata": {},
   "outputs": [
    {
     "name": "stdout",
     "output_type": "stream",
     "text": [
      "Video of Robert De Niro saying '[Expletive] Trump' is from 2018 Tony Awards, not 2025 Oscars\n"
     ]
    }
   ],
   "source": [
    "# Headline\n",
    "\n",
    "print(soup.find('section', class_='title-container').find('h1').text)"
   ]
  },
  {
   "cell_type": "code",
   "execution_count": null,
   "metadata": {},
   "outputs": [],
   "source": [
    "# Representative Text:"
   ]
  },
  {
   "cell_type": "code",
   "execution_count": null,
   "metadata": {},
   "outputs": [],
   "source": [
    "# Original Source: The platform where the video was first shared (e.g., Twitter)."
   ]
  },
  {
   "cell_type": "code",
   "execution_count": 26,
   "metadata": {},
   "outputs": [
    {
     "name": "stdout",
     "output_type": "stream",
     "text": [
      "Miscaptioned\n"
     ]
    }
   ],
   "source": [
    "# Veracity: The Snopes fact-check result (e.g., False).\n",
    "rating_info = soup.find('div', class_='rating_title_wrap').text\n",
    "stripped_rating = \"\"\n",
    "for ch in rating_info:\n",
    "    if ch.isalpha():\n",
    "        stripped_rating += ch\n",
    "print(stripped_rating[:len(stripped_rating) - 15])"
   ]
  },
  {
   "cell_type": "code",
   "execution_count": 37,
   "metadata": {},
   "outputs": [
    {
     "data": {
      "text/plain": [
       "[<a href=\"https://x.com/sot6ixtv/status/1896415374754918673\" target=\"_blank\">video</a>,\n",
       " <a href=\"https://archive.li/kghRH\" target=\"_blank\">archived</a>,\n",
       " <a href=\"https://www.tiktok.com/@everythingdemocrats/video/7477409691056950574\" target=\"_blank\">clip</a>,\n",
       " <a href=\"https://archive.ph/IZsNO\" target=\"_blank\">archived</a>,\n",
       " <a href=\"https://x.com/YourAnonTV/status/1896373514871148643\" target=\"_blank\">examples</a>,\n",
       " <a href=\"https://x.com/leftzalwaysrite/status/1896391415145656390\" target=\"_blank\">claim</a>,\n",
       " <a href=\"https://x.com/withdiamonds82/status/1896435978614739268\" target=\"_blank\">on X</a>,\n",
       " <a href=\"https://www.youtube.com/watch?v=1zNr8Pf1QkY\" target=\"_blank\">The Guardian</a>,\n",
       " <a href=\"https://www.youtube.com/watch?v=DVWxQvlgRrM\" target=\"_blank\">Variety</a>,\n",
       " <a href=\"https://www.theguardian.com/film/2018/jun/11/robert-de-niro-wins-ovation-fuck-trump-speech-tony-awards\" target=\"_blank\">introducing</a>,\n",
       " <a href=\"https://www.youtube.com/watch?v=55fJ0FgPSQk\" target=\"_blank\">2016</a>]"
      ]
     },
     "execution_count": 37,
     "metadata": {},
     "output_type": "execute_result"
    }
   ],
   "source": [
    "# inside article body, these are all the links, one of these will be the video link, not able to figure out yet.\n",
    "\n",
    "soup.find('article', id='article-content').find_all('a', target='_blank')"
   ]
  },
  {
   "cell_type": "code",
   "execution_count": null,
   "metadata": {},
   "outputs": [],
   "source": [
    "# Shareable Video Link: The direct link to the post containing the video (e.g., a Twitter post).\n"
   ]
  },
  {
   "cell_type": "code",
   "execution_count": null,
   "metadata": {},
   "outputs": [],
   "source": [
    "# Downloadable Video Link: A saved copy of the video (hosted on a shared drive)."
   ]
  },
  {
   "cell_type": "code",
   "execution_count": null,
   "metadata": {},
   "outputs": [],
   "source": [
    "# Additional Information: Any other relevant metadata that could enhance the dataset."
   ]
  }
 ],
 "metadata": {
  "kernelspec": {
   "display_name": "ds_mode",
   "language": "python",
   "name": "python3"
  },
  "language_info": {
   "codemirror_mode": {
    "name": "ipython",
    "version": 3
   },
   "file_extension": ".py",
   "mimetype": "text/x-python",
   "name": "python",
   "nbconvert_exporter": "python",
   "pygments_lexer": "ipython3",
   "version": "3.12.0"
  }
 },
 "nbformat": 4,
 "nbformat_minor": 2
}
