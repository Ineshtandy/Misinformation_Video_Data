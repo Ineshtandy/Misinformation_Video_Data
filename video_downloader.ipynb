{
 "cells": [
  {
   "cell_type": "code",
   "execution_count": 16,
   "metadata": {},
   "outputs": [],
   "source": [
    "import requests\n",
    "import m3u8"
   ]
  },
  {
   "cell_type": "code",
   "execution_count": null,
   "metadata": {},
   "outputs": [],
   "source": [
    "# url = \"https://video.twimg.com/ext_tw_video/1896415345033834496/pu/pl/7VMTnlK5SETpKqRl.m3u8?variant_version=1&tag=12&v=bea\"\n",
    "url = \"https://video.twimg.com/ext_tw_video/1896415345033834496/pu/pl/avc1/720x900/0BjI6nGWWyi_IuhV.m3u8\""
   ]
  },
  {
   "cell_type": "code",
   "execution_count": 67,
   "metadata": {},
   "outputs": [],
   "source": [
    "r = requests.get(url)"
   ]
  },
  {
   "cell_type": "code",
   "execution_count": 68,
   "metadata": {},
   "outputs": [
    {
     "name": "stdout",
     "output_type": "stream",
     "text": [
      "#EXTM3U\n",
      "#EXT-X-VERSION:6\n",
      "#EXT-X-MEDIA-SEQUENCE:0\n",
      "#EXT-X-TARGETDURATION:5\n",
      "#EXT-X-PLAYLIST-TYPE:VOD\n",
      "#EXT-X-MAP:URI=\"/ext_tw_video/1896415345033834496/pu/vid/avc1/0/0/720x900/3rUJnnrIkhfalfwg.mp4\"\n",
      "#EXTINF:3.000,\n",
      "/ext_tw_video/1896415345033834496/pu/vid/avc1/0/3000/720x900/4hflzcQaGKoDmFkR.m4s\n",
      "#EXTINF:3.000,\n",
      "/ext_tw_video/1896415345033834496/pu/vid/avc1/3000/6000/720x900/_F78K0XAHTY7zWiq.m4s\n",
      "#EXTINF:3.000,\n",
      "/ext_tw_video/1896415345033834496/pu/vid/avc1/6000/9000/720x900/dwxaJJPw0E35n1jl.m4s\n",
      "#EXTINF:3.000,\n",
      "/ext_tw_video/1896415345033834496/pu/vid/avc1/9000/12000/720x900/3_6PcVWknv15ZtZh.m4s\n",
      "#EXTINF:3.000,\n",
      "/ext_tw_video/1896415345033834496/pu/vid/avc1/12000/15000/720x900/17qjmZNVGtnr6Fz9.m4s\n",
      "#EXTINF:3.000,\n",
      "/ext_tw_video/1896415345033834496/pu/vid/avc1/15000/18000/720x900/H-iXKvwmlLDOoMaE.m4s\n",
      "#EXTINF:3.000,\n",
      "/ext_tw_video/1896415345033834496/pu/vid/avc1/18000/21000/720x900/E2X66VO6ehXs0gVD.m4s\n",
      "#EXTINF:3.000,\n",
      "/ext_tw_video/1896415345033834496/pu/vid/avc1/21000/24000/720x900/R_XAb-puBCOj8y8v.m4s\n",
      "#EXTINF:3.000,\n",
      "/ext_tw_video/1896415345033834496/pu/vid/avc1/24000/27000/720x900/8FOkMJhUDR22xyT3.m4s\n",
      "#EXTINF:4.130,\n",
      "/ext_tw_video/1896415345033834496/pu/vid/avc1/27000/31130/720x900/3QqnYxyEN3j-8Yg2.m4s\n",
      "#EXT-X-ENDLIST\n",
      "\n"
     ]
    }
   ],
   "source": [
    "print(r.text)"
   ]
  },
  {
   "cell_type": "code",
   "execution_count": 69,
   "metadata": {},
   "outputs": [],
   "source": [
    "m3u8_master = m3u8.loads(r.text)"
   ]
  },
  {
   "cell_type": "code",
   "execution_count": 92,
   "metadata": {},
   "outputs": [
    {
     "data": {
      "text/plain": [
       "{'media_sequence': 0,\n",
       " 'is_variant': False,\n",
       " 'is_endlist': True,\n",
       " 'is_i_frames_only': False,\n",
       " 'is_independent_segments': False,\n",
       " 'is_images_only': False,\n",
       " 'playlist_type': 'vod',\n",
       " 'playlists': [],\n",
       " 'segments': [{'duration': 3.0,\n",
       "   'title': '',\n",
       "   'uri': '/ext_tw_video/1896415345033834496/pu/vid/avc1/0/3000/720x900/4hflzcQaGKoDmFkR.m4s',\n",
       "   'cue_in': False,\n",
       "   'cue_out': False,\n",
       "   'cue_out_start': False,\n",
       "   'cue_out_explicitly_duration': False,\n",
       "   'scte35': None,\n",
       "   'oatcls_scte35': None,\n",
       "   'scte35_duration': None,\n",
       "   'scte35_elapsedtime': None,\n",
       "   'asset_metadata': None,\n",
       "   'discontinuity': False,\n",
       "   'init_section': {'uri': '/ext_tw_video/1896415345033834496/pu/vid/avc1/0/0/720x900/3rUJnnrIkhfalfwg.mp4'},\n",
       "   'dateranges': None,\n",
       "   'gap_tag': None},\n",
       "  {'duration': 3.0,\n",
       "   'title': '',\n",
       "   'uri': '/ext_tw_video/1896415345033834496/pu/vid/avc1/3000/6000/720x900/_F78K0XAHTY7zWiq.m4s',\n",
       "   'cue_in': False,\n",
       "   'cue_out': False,\n",
       "   'cue_out_start': False,\n",
       "   'cue_out_explicitly_duration': False,\n",
       "   'scte35': None,\n",
       "   'oatcls_scte35': None,\n",
       "   'scte35_duration': None,\n",
       "   'scte35_elapsedtime': None,\n",
       "   'asset_metadata': None,\n",
       "   'discontinuity': False,\n",
       "   'init_section': {'uri': '/ext_tw_video/1896415345033834496/pu/vid/avc1/0/0/720x900/3rUJnnrIkhfalfwg.mp4'},\n",
       "   'dateranges': None,\n",
       "   'gap_tag': None},\n",
       "  {'duration': 3.0,\n",
       "   'title': '',\n",
       "   'uri': '/ext_tw_video/1896415345033834496/pu/vid/avc1/6000/9000/720x900/dwxaJJPw0E35n1jl.m4s',\n",
       "   'cue_in': False,\n",
       "   'cue_out': False,\n",
       "   'cue_out_start': False,\n",
       "   'cue_out_explicitly_duration': False,\n",
       "   'scte35': None,\n",
       "   'oatcls_scte35': None,\n",
       "   'scte35_duration': None,\n",
       "   'scte35_elapsedtime': None,\n",
       "   'asset_metadata': None,\n",
       "   'discontinuity': False,\n",
       "   'init_section': {'uri': '/ext_tw_video/1896415345033834496/pu/vid/avc1/0/0/720x900/3rUJnnrIkhfalfwg.mp4'},\n",
       "   'dateranges': None,\n",
       "   'gap_tag': None},\n",
       "  {'duration': 3.0,\n",
       "   'title': '',\n",
       "   'uri': '/ext_tw_video/1896415345033834496/pu/vid/avc1/9000/12000/720x900/3_6PcVWknv15ZtZh.m4s',\n",
       "   'cue_in': False,\n",
       "   'cue_out': False,\n",
       "   'cue_out_start': False,\n",
       "   'cue_out_explicitly_duration': False,\n",
       "   'scte35': None,\n",
       "   'oatcls_scte35': None,\n",
       "   'scte35_duration': None,\n",
       "   'scte35_elapsedtime': None,\n",
       "   'asset_metadata': None,\n",
       "   'discontinuity': False,\n",
       "   'init_section': {'uri': '/ext_tw_video/1896415345033834496/pu/vid/avc1/0/0/720x900/3rUJnnrIkhfalfwg.mp4'},\n",
       "   'dateranges': None,\n",
       "   'gap_tag': None},\n",
       "  {'duration': 3.0,\n",
       "   'title': '',\n",
       "   'uri': '/ext_tw_video/1896415345033834496/pu/vid/avc1/12000/15000/720x900/17qjmZNVGtnr6Fz9.m4s',\n",
       "   'cue_in': False,\n",
       "   'cue_out': False,\n",
       "   'cue_out_start': False,\n",
       "   'cue_out_explicitly_duration': False,\n",
       "   'scte35': None,\n",
       "   'oatcls_scte35': None,\n",
       "   'scte35_duration': None,\n",
       "   'scte35_elapsedtime': None,\n",
       "   'asset_metadata': None,\n",
       "   'discontinuity': False,\n",
       "   'init_section': {'uri': '/ext_tw_video/1896415345033834496/pu/vid/avc1/0/0/720x900/3rUJnnrIkhfalfwg.mp4'},\n",
       "   'dateranges': None,\n",
       "   'gap_tag': None},\n",
       "  {'duration': 3.0,\n",
       "   'title': '',\n",
       "   'uri': '/ext_tw_video/1896415345033834496/pu/vid/avc1/15000/18000/720x900/H-iXKvwmlLDOoMaE.m4s',\n",
       "   'cue_in': False,\n",
       "   'cue_out': False,\n",
       "   'cue_out_start': False,\n",
       "   'cue_out_explicitly_duration': False,\n",
       "   'scte35': None,\n",
       "   'oatcls_scte35': None,\n",
       "   'scte35_duration': None,\n",
       "   'scte35_elapsedtime': None,\n",
       "   'asset_metadata': None,\n",
       "   'discontinuity': False,\n",
       "   'init_section': {'uri': '/ext_tw_video/1896415345033834496/pu/vid/avc1/0/0/720x900/3rUJnnrIkhfalfwg.mp4'},\n",
       "   'dateranges': None,\n",
       "   'gap_tag': None},\n",
       "  {'duration': 3.0,\n",
       "   'title': '',\n",
       "   'uri': '/ext_tw_video/1896415345033834496/pu/vid/avc1/18000/21000/720x900/E2X66VO6ehXs0gVD.m4s',\n",
       "   'cue_in': False,\n",
       "   'cue_out': False,\n",
       "   'cue_out_start': False,\n",
       "   'cue_out_explicitly_duration': False,\n",
       "   'scte35': None,\n",
       "   'oatcls_scte35': None,\n",
       "   'scte35_duration': None,\n",
       "   'scte35_elapsedtime': None,\n",
       "   'asset_metadata': None,\n",
       "   'discontinuity': False,\n",
       "   'init_section': {'uri': '/ext_tw_video/1896415345033834496/pu/vid/avc1/0/0/720x900/3rUJnnrIkhfalfwg.mp4'},\n",
       "   'dateranges': None,\n",
       "   'gap_tag': None},\n",
       "  {'duration': 3.0,\n",
       "   'title': '',\n",
       "   'uri': '/ext_tw_video/1896415345033834496/pu/vid/avc1/21000/24000/720x900/R_XAb-puBCOj8y8v.m4s',\n",
       "   'cue_in': False,\n",
       "   'cue_out': False,\n",
       "   'cue_out_start': False,\n",
       "   'cue_out_explicitly_duration': False,\n",
       "   'scte35': None,\n",
       "   'oatcls_scte35': None,\n",
       "   'scte35_duration': None,\n",
       "   'scte35_elapsedtime': None,\n",
       "   'asset_metadata': None,\n",
       "   'discontinuity': False,\n",
       "   'init_section': {'uri': '/ext_tw_video/1896415345033834496/pu/vid/avc1/0/0/720x900/3rUJnnrIkhfalfwg.mp4'},\n",
       "   'dateranges': None,\n",
       "   'gap_tag': None},\n",
       "  {'duration': 3.0,\n",
       "   'title': '',\n",
       "   'uri': '/ext_tw_video/1896415345033834496/pu/vid/avc1/24000/27000/720x900/8FOkMJhUDR22xyT3.m4s',\n",
       "   'cue_in': False,\n",
       "   'cue_out': False,\n",
       "   'cue_out_start': False,\n",
       "   'cue_out_explicitly_duration': False,\n",
       "   'scte35': None,\n",
       "   'oatcls_scte35': None,\n",
       "   'scte35_duration': None,\n",
       "   'scte35_elapsedtime': None,\n",
       "   'asset_metadata': None,\n",
       "   'discontinuity': False,\n",
       "   'init_section': {'uri': '/ext_tw_video/1896415345033834496/pu/vid/avc1/0/0/720x900/3rUJnnrIkhfalfwg.mp4'},\n",
       "   'dateranges': None,\n",
       "   'gap_tag': None},\n",
       "  {'duration': 4.13,\n",
       "   'title': '',\n",
       "   'uri': '/ext_tw_video/1896415345033834496/pu/vid/avc1/27000/31130/720x900/3QqnYxyEN3j-8Yg2.m4s',\n",
       "   'cue_in': False,\n",
       "   'cue_out': False,\n",
       "   'cue_out_start': False,\n",
       "   'cue_out_explicitly_duration': False,\n",
       "   'scte35': None,\n",
       "   'oatcls_scte35': None,\n",
       "   'scte35_duration': None,\n",
       "   'scte35_elapsedtime': None,\n",
       "   'asset_metadata': None,\n",
       "   'discontinuity': False,\n",
       "   'init_section': {'uri': '/ext_tw_video/1896415345033834496/pu/vid/avc1/0/0/720x900/3rUJnnrIkhfalfwg.mp4'},\n",
       "   'dateranges': None,\n",
       "   'gap_tag': None}],\n",
       " 'iframe_playlists': [],\n",
       " 'image_playlists': [],\n",
       " 'tiles': [],\n",
       " 'media': [],\n",
       " 'keys': [None],\n",
       " 'rendition_reports': [],\n",
       " 'skip': {},\n",
       " 'part_inf': {},\n",
       " 'session_data': [],\n",
       " 'session_keys': [],\n",
       " 'segment_map': [{'uri': '/ext_tw_video/1896415345033834496/pu/vid/avc1/0/0/720x900/3rUJnnrIkhfalfwg.mp4'}],\n",
       " 'version': 6,\n",
       " 'targetduration': 5}"
      ]
     },
     "execution_count": 92,
     "metadata": {},
     "output_type": "execute_result"
    }
   ],
   "source": [
    "playlist_url = m3u8_master.data\n",
    "playlist_url"
   ]
  },
  {
   "cell_type": "code",
   "execution_count": 85,
   "metadata": {},
   "outputs": [],
   "source": [
    "base_url = \"https://video.twimg.com\""
   ]
  },
  {
   "cell_type": "code",
   "execution_count": 86,
   "metadata": {},
   "outputs": [
    {
     "name": "stdout",
     "output_type": "stream",
     "text": [
      "https://video.twimg.com/ext_tw_video/1896415345033834496/pu/vid/avc1/0/3000/720x900/4hflzcQaGKoDmFkR.m4s\n"
     ]
    }
   ],
   "source": [
    "print(base_url+playlist_url)"
   ]
  },
  {
   "cell_type": "code",
   "execution_count": 87,
   "metadata": {},
   "outputs": [],
   "source": [
    "new_r = requests.get(base_url+playlist_url)"
   ]
  },
  {
   "cell_type": "code",
   "execution_count": 88,
   "metadata": {},
   "outputs": [],
   "source": [
    "playlist = m3u8.loads(new_r.text)"
   ]
  },
  {
   "cell_type": "code",
   "execution_count": 89,
   "metadata": {},
   "outputs": [
    {
     "data": {
      "text/plain": [
       "{'media_sequence': 0,\n",
       " 'is_variant': False,\n",
       " 'is_endlist': False,\n",
       " 'is_i_frames_only': False,\n",
       " 'is_independent_segments': False,\n",
       " 'is_images_only': False,\n",
       " 'playlist_type': None,\n",
       " 'playlists': [],\n",
       " 'segments': [],\n",
       " 'iframe_playlists': [],\n",
       " 'image_playlists': [],\n",
       " 'tiles': [],\n",
       " 'media': [],\n",
       " 'keys': [],\n",
       " 'rendition_reports': [],\n",
       " 'skip': {},\n",
       " 'part_inf': {},\n",
       " 'session_data': [],\n",
       " 'session_keys': [],\n",
       " 'segment_map': []}"
      ]
     },
     "execution_count": 89,
     "metadata": {},
     "output_type": "execute_result"
    }
   ],
   "source": [
    "playlist.data"
   ]
  },
  {
   "cell_type": "code",
   "execution_count": 90,
   "metadata": {},
   "outputs": [],
   "source": [
    "with open('video.ts', 'wb') as f:\n",
    "    for segment in playlist.data['segments']: # go through each segment and write it to the file\n",
    "        url = segment['uri']\n",
    "        r = requests.get(url)\n",
    "        \n",
    "        f.write(r.content)"
   ]
  },
  {
   "cell_type": "code",
   "execution_count": 52,
   "metadata": {},
   "outputs": [
    {
     "data": {
      "text/plain": [
       "'/ext_tw_video/1896415345033834496/pu/vid/avc1/0/3000/720x900/4hflzcQaGKoDmFkR.m4s'"
      ]
     },
     "execution_count": 52,
     "metadata": {},
     "output_type": "execute_result"
    }
   ],
   "source": [
    "playlist.data['segments'][0]['uri']"
   ]
  },
  {
   "cell_type": "code",
   "execution_count": 42,
   "metadata": {},
   "outputs": [
    {
     "data": {
      "text/plain": [
       "'/ext_tw_video/1896415345033834496/pu/vid/avc1/0/0/720x900/3rUJnnrIkhfalfwg.mp4'"
      ]
     },
     "execution_count": 42,
     "metadata": {},
     "output_type": "execute_result"
    }
   ],
   "source": [
    "playlist.data['segments'][0]['init_section']['uri']"
   ]
  },
  {
   "cell_type": "code",
   "execution_count": 61,
   "metadata": {},
   "outputs": [
    {
     "name": "stdout",
     "output_type": "stream",
     "text": [
      "https://video.twimg.com/ext_tw_video/1896415345033834496/pu/vid/avc1/0/3000/720x900/4hflzcQaGKoDmFkR.m4s\n"
     ]
    }
   ],
   "source": [
    "print(base_url + playlist.data['segments'][0]['uri'])"
   ]
  },
  {
   "cell_type": "code",
   "execution_count": 58,
   "metadata": {},
   "outputs": [],
   "source": [
    "# video_r = requests.get(\"https://video.twimg.com\"+playlist.data['segments'][0]['init_section']['uri']) # this is initialization segment\n",
    "\n",
    "video_r = requests.get(base_url + playlist.data['segments'][0]['uri'])"
   ]
  },
  {
   "cell_type": "code",
   "execution_count": null,
   "metadata": {},
   "outputs": [],
   "source": [
    "video_r.content"
   ]
  },
  {
   "cell_type": "code",
   "execution_count": null,
   "metadata": {},
   "outputs": [],
   "source": [
    "with open(\"video2.\", \"wb\") as file:\n",
    "        file.write(video_r.content)"
   ]
  },
  {
   "cell_type": "code",
   "execution_count": 63,
   "metadata": {},
   "outputs": [
    {
     "name": "stdout",
     "output_type": "stream",
     "text": [
      "Downloaded: init_segment.mp4\n",
      "Downloaded: media_segment_4hflzcQaGKoDmFkR.m4s\n",
      "Downloaded: init_segment.mp4\n",
      "Downloaded: media_segment__F78K0XAHTY7zWiq.m4s\n",
      "Downloaded: init_segment.mp4\n",
      "Downloaded: media_segment_dwxaJJPw0E35n1jl.m4s\n",
      "Downloaded: init_segment.mp4\n",
      "Downloaded: media_segment_3_6PcVWknv15ZtZh.m4s\n",
      "Downloaded: init_segment.mp4\n",
      "Downloaded: media_segment_17qjmZNVGtnr6Fz9.m4s\n",
      "Downloaded: init_segment.mp4\n",
      "Downloaded: media_segment_H-iXKvwmlLDOoMaE.m4s\n",
      "Downloaded: init_segment.mp4\n",
      "Downloaded: media_segment_E2X66VO6ehXs0gVD.m4s\n",
      "Downloaded: init_segment.mp4\n",
      "Downloaded: media_segment_R_XAb-puBCOj8y8v.m4s\n",
      "Downloaded: init_segment.mp4\n",
      "Downloaded: media_segment_8FOkMJhUDR22xyT3.m4s\n",
      "Downloaded: init_segment.mp4\n",
      "Downloaded: media_segment_3QqnYxyEN3j-8Yg2.m4s\n"
     ]
    }
   ],
   "source": [
    "def download_file(url, filename):\n",
    "    response = requests.get(url, stream=True)\n",
    "    if response.status_code == 200:\n",
    "        with open(filename, 'wb') as f:\n",
    "            for chunk in response.iter_content(chunk_size=1024):\n",
    "                f.write(chunk)\n",
    "        print(f\"Downloaded: {filename}\")\n",
    "    else:\n",
    "        print(f\"Failed to download {filename}\")\n",
    "\n",
    "# Process each segment\n",
    "for segment in playlist.data['segments']:\n",
    "    # Download the initialization segment (MP4)\n",
    "    init_url = base_url + segment['init_section']['uri']\n",
    "    init_filename = \"init_segment.mp4\"\n",
    "    download_file(init_url, init_filename)\n",
    "\n",
    "    # Download the media segment (M4S)\n",
    "    media_url = base_url + segment['uri']\n",
    "    media_filename = f\"media_segment_{segment['uri'].split('/')[-1]}\"\n",
    "    download_file(media_url, media_filename)"
   ]
  },
  {
   "cell_type": "code",
   "execution_count": null,
   "metadata": {},
   "outputs": [],
   "source": [
    "import requests\n",
    "import m3u8\n",
    "import subprocess\n",
    "import os\n",
    "\n",
    "base_url = \"https://video.twimg.com\"\n",
    "    \n",
    "def m3u8_to_mp4(m3u8_url, output_path=\"output.mp4\"):\n",
    "            response = requests.get(m3u8_url)\n",
    "            response.raise_for_status()  # Raise HTTPError for bad responses (4xx or 5xx)\n",
    "            m3u8_content = response.text\n",
    "    \n",
    "            playlist = m3u8.loads(m3u8_content)\n",
    "            # print(playlist.data['playlists'])\n",
    "            segment_urls = [segment['uri'] for segment in playlist.data['playlists']]\n",
    "            # print(\"segment urls \",segment_urls)\n",
    "    \n",
    "            ts_files = []\n",
    "            with open('final_output.ts', 'wb') as fo:\n",
    "                for i, segment_url in enumerate(segment_urls):\n",
    "                    \n",
    "                    playlist_segment_url = requests.get(base_url + segment_url)\n",
    "\n",
    "                    playlist_segment_data = m3u8.loads(playlist_segment_url.text)\n",
    "\n",
    "                    for j, stream in enumerate(playlist_segment_data.data['segments']):\n",
    "                        # ts_respone = requests.get(base_url + stream['uri'])\n",
    "                        cur_uri = base_url + stream['uri']\n",
    "\n",
    "                        ts_response = requests.get(cur_uri)\n",
    "                        ts_filename = f\"temp_{i}{j}.ts\"  \n",
    "                        with open(ts_filename, \"wb\") as f:\n",
    "                            f.write(ts_response.content)\n",
    "                        fo.write(ts_response.content)\n",
    "                        print('came till here')\n",
    "                        ts_files.append(ts_filename)\n",
    "    \n",
    "            # concat_arg = \"concat:\" + \"|\".join(ts_files)\n",
    "    \n",
    "            # cmd = [\"ffmpeg\", \"-i\", concat_arg, \"-c\", \"copy\", output_path]\n",
    "            # subprocess.run(cmd, check=True)\n",
    "            subprocess.run(['ffmpeg', '-i', 'final_output.ts', '-c', 'copy', 'output.ts'])\n",
    "            subprocess.run(['ffmpeg', '-i', 'output.ts', 'final_vid.mp4'])\n",
    "\n",
    "    \n",
    "m3u8_url = \"https://video.twimg.com/ext_tw_video/1896415345033834496/pu/pl/7VMTnlK5SETpKqRl.m3u8?variant_version=1&tag=12&v=bea\"\n",
    "m3u8_to_mp4(m3u8_url)"
   ]
  }
 ],
 "metadata": {
  "kernelspec": {
   "display_name": "ds_mode",
   "language": "python",
   "name": "python3"
  },
  "language_info": {
   "codemirror_mode": {
    "name": "ipython",
    "version": 3
   },
   "file_extension": ".py",
   "mimetype": "text/x-python",
   "name": "python",
   "nbconvert_exporter": "python",
   "pygments_lexer": "ipython3",
   "version": "3.12.0"
  }
 },
 "nbformat": 4,
 "nbformat_minor": 2
}
